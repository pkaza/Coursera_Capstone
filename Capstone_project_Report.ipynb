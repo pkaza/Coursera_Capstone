{
 "cells": [
  {
   "cell_type": "markdown",
   "metadata": {},
   "source": [
    "# Peer-Graded Assignment: Capstone Project - The Battle of Neighborhoods (Report)"
   ]
  },
  {
   "cell_type": "markdown",
   "metadata": {},
   "source": [
    "## Greek Restaurant in New York city"
   ]
  },
  {
   "cell_type": "markdown",
   "metadata": {},
   "source": [
    "## Anastasios-Petros Kazamias"
   ]
  },
  {
   "cell_type": "markdown",
   "metadata": {},
   "source": [
    "### Introduction / Business Problem"
   ]
  },
  {
   "cell_type": "markdown",
   "metadata": {},
   "source": [
    "=========================================="
   ]
  },
  {
   "cell_type": "markdown",
   "metadata": {},
   "source": [
    "##### Business Problem Introduction"
   ]
  },
  {
   "cell_type": "markdown",
   "metadata": {},
   "source": [
    "Over the past years many Greeks have immigrated in New York city and enstablised communities in it's neighborhoods. Many of these families opened Greek restaurants and have been very successful businesses because they have both the support of the Greek communities and the approval of many native Americans who became fans of Greek food."
   ]
  },
  {
   "cell_type": "markdown",
   "metadata": {},
   "source": [
    "In this project we are going to present a guide on how to choose the best location in New York City to open a Greek Restaurant. The choice will take into account the number of Greek restaurants (positive indicator) and the number of general type restaurants (negative indicator) in each New York City neighborhood. For example if there exists a neighborhood where one out of ten restaurants are Greek then people in this area seem to be very interested in Greek food and may be a good place to open a business (that is the basic \n",
    "idea but keep in mind that we need to consider some observations which do not act well in our model)."
   ]
  },
  {
   "cell_type": "markdown",
   "metadata": {},
   "source": [
    "##### Audience"
   ]
  },
  {
   "cell_type": "markdown",
   "metadata": {},
   "source": [
    "Our targeted \n",
    "audience is obviously people who want to invest on a restaurant business in New York City and have a passion with Greek food. As described above the biggest part of this set are Greek people who have been enstablised and now live in New York city."
   ]
  },
  {
   "cell_type": "markdown",
   "metadata": {},
   "source": [
    "### Data"
   ]
  },
  {
   "cell_type": "markdown",
   "metadata": {},
   "source": [
    "=========================================="
   ]
  },
  {
   "cell_type": "markdown",
   "metadata": {},
   "source": [
    "The data that we are going to use for this project is New York neighborhoods data and FourSquare data."
   ]
  },
  {
   "cell_type": "markdown",
   "metadata": {},
   "source": [
    "Foursuare data provides us with key information about different areas. Using FourSquare data will allow us to:"
   ]
  },
  {
   "cell_type": "markdown",
   "metadata": {},
   "source": [
    "* Locate the positions of current restaurants in New York city.\n",
    "* Locate the positions of current Greek restaurants in  New York city.\n",
    "* Compare the location results."
   ]
  },
  {
   "cell_type": "markdown",
   "metadata": {},
   "source": [
    "New York neighborhoods data contains neighborhoods, boroughs, longitudes and latitudes in New York city and is crucial for our analysis. It can be found in the following source: https://geo.nyu.edu/catalog/nyu_2451_34572"
   ]
  },
  {
   "cell_type": "markdown",
   "metadata": {},
   "source": [
    "### Methodology"
   ]
  },
  {
   "cell_type": "markdown",
   "metadata": {},
   "source": [
    "=========================================="
   ]
  },
  {
   "cell_type": "markdown",
   "metadata": {},
   "source": [
    "First we download the New York neighborhoods dataset from the web. This dataset contains neighborhoods, boroughs, longitudes and latitudes but we need to do some data wrangling to export this information and get it in a pandas dataframe form. After that we can visualize our results in a New York neighborhood map."
   ]
  },
  {
   "cell_type": "markdown",
   "metadata": {},
   "source": [
    "Our next step is to import the Foursquare data (restaurants in New Yrok city) in a pandas dataframe form with columns like venue name, category, neighborhood it belongs etc.. For that purpose we introduce a fuction that will make continues Foursquare API requests and present the results creating a dataframe (this is a very interesting and crucial part of the project)."
   ]
  },
  {
   "cell_type": "markdown",
   "metadata": {},
   "source": [
    "After having our data in the form we want, we start doing some data analysis. We create for each neighborhood a number (*pointer*) which represents the suitability of this neighborhood to host a Greek restaurant. This number is the quotient of Greek type restaurants and general type restaurants in the neighborhood, multiplied by 100 (or the percentage of Greek restaurants versus general type restaurants in the neighborhood)."
   ]
  },
  {
   "cell_type": "markdown",
   "metadata": {},
   "source": [
    "In the next section of the project we will use kmeans (machine learning tool) to cluster our neighborhoods based on the suitability to open a Greek restaurant. We will train the model with the *pointer* data. Finally we create a map presenting the clustered neighborhoods in colours."
   ]
  },
  {
   "cell_type": "markdown",
   "metadata": {},
   "source": [
    "In conclusion we summarize the results of the map and the analysis and we give a consultation to our audience."
   ]
  },
  {
   "cell_type": "markdown",
   "metadata": {},
   "source": [
    "### Results / Observations"
   ]
  },
  {
   "cell_type": "markdown",
   "metadata": {},
   "source": [
    "=========================================="
   ]
  },
  {
   "cell_type": "markdown",
   "metadata": {},
   "source": [
    "According to the analysis we performed, our advice to someone who wants to open a Greek restaurant is the following:"
   ]
  },
  {
   "cell_type": "markdown",
   "metadata": {},
   "source": [
    "* In _Manhattan_, __Midtown__ and __South__ neighborhoods are more suitable places to open a Greek restaurant but there is a lot antagonism cause there are so many types of restaurants in these neighborhoods.\n",
    "* We wouldn't recommend _Bronx_ for starting a business.\n",
    "* In _Brooklyn_ a good choice is __Gowanus__ and nearby neighborhoods, but a better one is __Bay Ridge__.\n",
    "+ In the Southeast part of _Staten Island_, __Dongan Hills__, __Grant City__, __Bay Terrace__ and especially __Old Town__ are very good neighborhoods to start a Greek restaurant business.\n",
    "* Finally _Queens_ seems to be the most suitable Borough. There is an obvious trend in Greek restaurants in __Astoria__ and neighborhoods near it. With a simple web search we found out that Astoria is the Greek cultured neighborhood of New York city since it was the home of the first Greek immigrants. So the most suitable neighborhoods to open a Greek restaurant in Queens and we could say in all of New York city are by far neighborhoods close to __Astoria__, and also __Bayside__, __Bay Terrace__ and __Douglaston__."
   ]
  },
  {
   "cell_type": "markdown",
   "metadata": {},
   "source": [
    "### Conclusion"
   ]
  },
  {
   "cell_type": "markdown",
   "metadata": {},
   "source": [
    "=========================================="
   ]
  },
  {
   "cell_type": "markdown",
   "metadata": {},
   "source": [
    "This project is a first guide on how to choose the best location in New York City to open a Greek Restaurant. Surely someone interested in such an investment should take other things into account too. Some data about the Greek people demographics in New York city would make our results far more reliable, but we couldn't find something in the web. Nevertheless it contains very useful information and accurate results for the audience."
   ]
  }
 ],
 "metadata": {
  "kernelspec": {
   "display_name": "Python 3",
   "language": "python",
   "name": "python3"
  },
  "language_info": {
   "codemirror_mode": {
    "name": "ipython",
    "version": 3
   },
   "file_extension": ".py",
   "mimetype": "text/x-python",
   "name": "python",
   "nbconvert_exporter": "python",
   "pygments_lexer": "ipython3",
   "version": "3.6.8"
  }
 },
 "nbformat": 4,
 "nbformat_minor": 2
}
