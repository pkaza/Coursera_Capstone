{
 "cells": [
  {
   "cell_type": "markdown",
   "metadata": {},
   "source": [
    "# Peer-Graded Assigment: Capstone Project - The Battle of Neighborhoods"
   ]
  },
  {
   "cell_type": "markdown",
   "metadata": {},
   "source": [
    "## Anastasios-Petros Kazamias"
   ]
  },
  {
   "cell_type": "markdown",
   "metadata": {},
   "source": [
    "### Data"
   ]
  },
  {
   "cell_type": "markdown",
   "metadata": {},
   "source": [
    "The data needed for this project is New York neighborhoods data and FourSquare data."
   ]
  },
  {
   "cell_type": "markdown",
   "metadata": {},
   "source": [
    "Foursuare data provides us with key information about different areas. Using FourSquare data will allow us to:"
   ]
  },
  {
   "cell_type": "markdown",
   "metadata": {},
   "source": [
    "* Locate the positions of current restaurants in New York city.\n",
    "* Locate the positions of current Greek restaurants in  New York city.\n",
    "* Compare the location results."
   ]
  },
  {
   "cell_type": "markdown",
   "metadata": {},
   "source": [
    "New York neighborhoods data contains neighborhoods, boroughs, longitudes and latitudes in New York city and is crucial for our analysis. It can be found in the following source: https://geo.nyu.edu/catalog/nyu_2451_34572"
   ]
  },
  {
   "cell_type": "code",
   "execution_count": null,
   "metadata": {},
   "outputs": [],
   "source": []
  }
 ],
 "metadata": {
  "kernelspec": {
   "display_name": "Python 3",
   "language": "python",
   "name": "python3"
  },
  "language_info": {
   "codemirror_mode": {
    "name": "ipython",
    "version": 3
   },
   "file_extension": ".py",
   "mimetype": "text/x-python",
   "name": "python",
   "nbconvert_exporter": "python",
   "pygments_lexer": "ipython3",
   "version": "3.6.8"
  }
 },
 "nbformat": 4,
 "nbformat_minor": 2
}
